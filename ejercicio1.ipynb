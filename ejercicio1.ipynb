{
 "cells": [
  {
   "cell_type": "markdown",
   "metadata": {},
   "source": [
    "# Problema 1"
   ]
  },
  {
   "cell_type": "markdown",
   "metadata": {},
   "source": [
    "## Descripción:\n",
    "En este problema, se presenta un conjunto de datos que contiene información sobre el rendimiento académico de estudiantes universitarios, así como diversos factores que podrían influir en él. El objetivo es construir un modelo de regresión utilizando redes neuronales para predecir el índice de rendimiento académico de los estudiantes basado en las características proporcionadas.\n",
    "\n",
    "## Dataset:\n",
    "El dataset proporcionado incluye las siguientes variables para cada estudiante:\n",
    "Hours Studied: El número total de horas dedicadas al estudio por cada estudiante.\n",
    "Previous Scores: Las puntuaciones obtenidas por los estudiantes en exámenes previos.\n",
    "Extracurricular Activities: Si el estudiante participa en actividades extracurriculares (Sí o No).\n",
    "Sleep Hours: El número promedio de horas de sueño que el estudiante tuvo por día.\n",
    "Sample Question Papers Practiced: El número de cuestionarios de muestra que el estudiante practicó.\n",
    "Además, el dataset incluye la variable objetivo:\n",
    "Performance Index: Un índice que representa el rendimiento académico general de cada estudiante, redondeado al entero más cercano. Este índice varía de 10 a 100, donde valores más altos indican un mejor rendimiento.\n",
    "## Objetivo:\n",
    "Utilizando el dataset proporcionado, el objetivo es construir un modelo de regresión utilizando redes neuronales que pueda predecir con precisión el índice de rendimiento académico de los estudiantes. Se debe entrenar y evaluar el modelo utilizando técnicas adecuadas de validación y métricas de evaluación de regresión.\n"
   ]
  },
  {
   "cell_type": "markdown",
   "metadata": {},
   "source": [
    "# EDA"
   ]
  },
  {
   "cell_type": "markdown",
   "metadata": {},
   "source": [
    "# Definición del modelo"
   ]
  },
  {
   "cell_type": "markdown",
   "metadata": {},
   "source": [
    "# Resultados"
   ]
  }
 ],
 "metadata": {
  "language_info": {
   "name": "python"
  }
 },
 "nbformat": 4,
 "nbformat_minor": 2
}
