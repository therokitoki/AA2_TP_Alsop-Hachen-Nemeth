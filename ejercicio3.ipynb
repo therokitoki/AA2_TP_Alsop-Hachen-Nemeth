{
 "cells": [
  {
   "cell_type": "code",
   "execution_count": 1,
   "id": "4c251863",
   "metadata": {},
   "outputs": [],
   "source": [
    "import os\n",
    "\n",
    "REPO_NAME = \"AA2_TP_Alsop-Hachen-Nemeth\"\n",
    "if REPO_NAME not in os.getcwd():\n",
    "  if not os.path.exists(REPO_NAME):\n",
    "    !git clone https://github.com/therokitoki/{REPO_NAME}.git\n",
    "  os.chdir(REPO_NAME)"
   ]
  }
 ],
 "metadata": {
  "kernelspec": {
   "display_name": ".venv",
   "language": "python",
   "name": "python3"
  },
  "language_info": {
   "codemirror_mode": {
    "name": "ipython",
    "version": 3
   },
   "file_extension": ".py",
   "mimetype": "text/x-python",
   "name": "python",
   "nbconvert_exporter": "python",
   "pygments_lexer": "ipython3",
   "version": "3.10.11"
  }
 },
 "nbformat": 4,
 "nbformat_minor": 5
}
