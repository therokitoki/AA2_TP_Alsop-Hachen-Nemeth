{
  "cells": [
    {
      "cell_type": "markdown",
      "metadata": {
        "colab_type": "text",
        "id": "view-in-github"
      },
      "source": [
        "<a href=\"https://colab.research.google.com/github/therokitoki/AA2_TP_Alsop-Hachen-Nemeth/blob/main/datasets.ipynb\" target=\"_parent\"><img src=\"https://colab.research.google.com/assets/colab-badge.svg\" alt=\"Open In Colab\"/></a>"
      ]
    },
    {
      "cell_type": "markdown",
      "metadata": {
        "id": "PNGlSfB7jrSI"
      },
      "source": [
        "# Descarga y extracción de datasets"
      ]
    },
    {
      "cell_type": "markdown",
      "metadata": {
        "id": "usJs6baNjrSK"
      },
      "source": [
        "## Preparación del entorno"
      ]
    },
    {
      "cell_type": "markdown",
      "metadata": {
        "id": "GHQ8IoUcjrSK"
      },
      "source": [
        "Instalar gdown"
      ]
    },
    {
      "cell_type": "code",
      "execution_count": 1,
      "metadata": {
        "id": "2oVPU_fMjrSK"
      },
      "outputs": [],
      "source": [
        "!pip install -q gdown"
      ]
    },
    {
      "cell_type": "markdown",
      "metadata": {
        "id": "FZMlfzBdjrSL"
      },
      "source": [
        "Descargar datasets"
      ]
    },
    {
      "cell_type": "code",
      "execution_count": 2,
      "metadata": {
        "colab": {
          "base_uri": "https://localhost:8080/",
          "height": 192
        },
        "id": "GsKuSxmBjrSL",
        "outputId": "d76e475d-d237-48e8-fe99-48dca7fdd117"
      },
      "outputs": [
        {
          "name": "stderr",
          "output_type": "stream",
          "text": [
            "Downloading...\n",
            "From: https://drive.google.com/uc?id=1mfpXVLqDJah-sO0CF29LjKUz5NtKjZqc\n",
            "To: /content/TP1-1-student_performance.zip\n",
            "100%|██████████| 49.7k/49.7k [00:00<00:00, 29.2MB/s]\n",
            "Downloading...\n",
            "From (original): https://drive.google.com/uc?id=1Pqs5Y6dZr4R66Dby5hIUIjPZtBI28rmJ\n",
            "From (redirected): https://drive.google.com/uc?id=1Pqs5Y6dZr4R66Dby5hIUIjPZtBI28rmJ&confirm=t&uuid=ed7b6e95-05f2-4032-8960-dbf83b0f061b\n",
            "To: /content/TP1-3-natural-scenes.zip\n",
            "100%|██████████| 363M/363M [00:03<00:00, 96.5MB/s]\n"
          ]
        },
        {
          "data": {
            "application/vnd.google.colaboratory.intrinsic+json": {
              "type": "string"
            },
            "text/plain": [
              "'TP1-3-natural-scenes.zip'"
            ]
          },
          "execution_count": 2,
          "metadata": {},
          "output_type": "execute_result"
        }
      ],
      "source": [
        "import gdown\n",
        "\n",
        "# TP1-1-student_performance.zip\n",
        "gdown.download('https://drive.google.com/uc?id=1mfpXVLqDJah-sO0CF29LjKUz5NtKjZqc')\n",
        "\n",
        "# # TP1-2-diabetes.zip\n",
        "# gdown.download('https://drive.google.com/uc?id=14-fDOsI9mrosOd-2Pnj8GdP1jyZjUTq_') # No funciona\n",
        "\n",
        "# TP1-3-natural-scenes.zip\n",
        "gdown.download('https://drive.google.com/uc?id=1Pqs5Y6dZr4R66Dby5hIUIjPZtBI28rmJ')"
      ]
    },
    {
      "cell_type": "markdown",
      "metadata": {
        "id": "5ki7mfO1jrSL"
      },
      "source": [
        "Descomprimir datasets"
      ]
    },
    {
      "cell_type": "code",
      "execution_count": 3,
      "metadata": {
        "id": "OvgagL77jrSL"
      },
      "outputs": [],
      "source": [
        "import zipfile\n",
        "\n",
        "with zipfile.ZipFile('TP1-1-student_performance.zip', 'r') as zip_ref:\n",
        "    zip_ref.extractall('./TP1-1')\n",
        "\n",
        "# with zipfile.ZipFile('TP1-2-diabetes.zip', 'r') as zip_ref:\n",
        "#     zip_ref.extractall('./TP1-2')\n",
        "\n",
        "with zipfile.ZipFile('TP1-3-natural-scenes.zip', 'r') as zip_ref:\n",
        "    zip_ref.extractall('./TP1-3')"
      ]
    }
  ],
  "metadata": {
    "colab": {
      "include_colab_link": true,
      "provenance": []
    },
    "kernelspec": {
      "display_name": "Python 3",
      "name": "python3"
    },
    "language_info": {
      "name": "python"
    }
  },
  "nbformat": 4,
  "nbformat_minor": 0
}
