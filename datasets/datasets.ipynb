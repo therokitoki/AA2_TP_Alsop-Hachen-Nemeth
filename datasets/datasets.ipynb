{
  "cells": [
    {
      "cell_type": "markdown",
      "metadata": {
        "id": "view-in-github",
        "colab_type": "text"
      },
      "source": [
        "<a href=\"https://colab.research.google.com/github/therokitoki/AA2_TP_Alsop-Hachen-Nemeth/blob/main/datasets/datasets.ipynb\" target=\"_parent\"><img src=\"https://colab.research.google.com/assets/colab-badge.svg\" alt=\"Open In Colab\"/></a>"
      ]
    },
    {
      "cell_type": "markdown",
      "metadata": {
        "id": "PNGlSfB7jrSI"
      },
      "source": [
        "# Descarga y extracción de datasets"
      ]
    },
    {
      "cell_type": "markdown",
      "metadata": {
        "id": "usJs6baNjrSK"
      },
      "source": [
        "## Preparación del entorno"
      ]
    },
    {
      "cell_type": "markdown",
      "metadata": {
        "id": "GHQ8IoUcjrSK"
      },
      "source": [
        "Instalar gdown"
      ]
    },
    {
      "cell_type": "code",
      "execution_count": 1,
      "metadata": {
        "id": "2oVPU_fMjrSK"
      },
      "outputs": [],
      "source": [
        "!pip install -q gdown"
      ]
    },
    {
      "cell_type": "markdown",
      "metadata": {
        "id": "FZMlfzBdjrSL"
      },
      "source": [
        "Descargar datasets"
      ]
    },
    {
      "cell_type": "code",
      "execution_count": 2,
      "metadata": {
        "colab": {
          "base_uri": "https://localhost:8080/",
          "height": 192
        },
        "id": "GsKuSxmBjrSL",
        "outputId": "3efeb3b4-fdae-4a38-e2c7-6a71c2ae24c9"
      },
      "outputs": [
        {
          "output_type": "stream",
          "name": "stderr",
          "text": [
            "Downloading...\n",
            "From: https://drive.google.com/uc?id=1mfpXVLqDJah-sO0CF29LjKUz5NtKjZqc\n",
            "To: /content/TP1-1-student_performance.zip\n",
            "100%|██████████| 49.7k/49.7k [00:00<00:00, 50.9MB/s]\n",
            "Downloading...\n",
            "From (original): https://drive.google.com/uc?id=1Pqs5Y6dZr4R66Dby5hIUIjPZtBI28rmJ\n",
            "From (redirected): https://drive.google.com/uc?id=1Pqs5Y6dZr4R66Dby5hIUIjPZtBI28rmJ&confirm=t&uuid=43bb6ad9-5af2-4a57-ac79-2c382c417d26\n",
            "To: /content/TP1-3-natural-scenes.zip\n",
            "100%|██████████| 363M/363M [00:04<00:00, 80.1MB/s]\n"
          ]
        },
        {
          "output_type": "execute_result",
          "data": {
            "text/plain": [
              "'TP1-3-natural-scenes.zip'"
            ],
            "application/vnd.google.colaboratory.intrinsic+json": {
              "type": "string"
            }
          },
          "metadata": {},
          "execution_count": 2
        }
      ],
      "source": [
        "import gdown\n",
        "\n",
        "# TP1-1-student_performance.zip\n",
        "gdown.download('https://drive.google.com/uc?id=1mfpXVLqDJah-sO0CF29LjKUz5NtKjZqc')\n",
        "\n",
        "# # TP1-2-diabetes.zip\n",
        "# gdown.download('https://drive.google.com/uc?id=14-fDOsI9mrosOd-2Pnj8GdP1jyZjUTq_') # No funciona\n",
        "\n",
        "# TP1-3-natural-scenes.zip\n",
        "gdown.download('https://drive.google.com/uc?id=1Pqs5Y6dZr4R66Dby5hIUIjPZtBI28rmJ')"
      ]
    }
  ],
  "metadata": {
    "colab": {
      "provenance": [],
      "include_colab_link": true
    },
    "kernelspec": {
      "display_name": "Python 3",
      "name": "python3"
    },
    "language_info": {
      "name": "python"
    }
  },
  "nbformat": 4,
  "nbformat_minor": 0
}