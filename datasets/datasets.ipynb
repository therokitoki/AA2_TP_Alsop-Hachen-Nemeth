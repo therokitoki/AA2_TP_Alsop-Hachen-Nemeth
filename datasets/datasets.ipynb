{
  "cells": [
    {
      "cell_type": "markdown",
      "metadata": {
        "id": "view-in-github",
        "colab_type": "text"
      },
      "source": [
        "<a href=\"https://colab.research.google.com/github/therokitoki/AA2_TP_Alsop-Hachen-Nemeth/blob/main/datasets/datasets.ipynb\" target=\"_parent\"><img src=\"https://colab.research.google.com/assets/colab-badge.svg\" alt=\"Open In Colab\"/></a>"
      ]
    },
    {
      "cell_type": "markdown",
      "metadata": {
        "id": "PNGlSfB7jrSI"
      },
      "source": [
        "# Descarga y extracción de datasets"
      ]
    },
    {
      "cell_type": "markdown",
      "metadata": {
        "id": "usJs6baNjrSK"
      },
      "source": [
        "## Preparación del entorno"
      ]
    },
    {
      "cell_type": "markdown",
      "metadata": {
        "id": "GHQ8IoUcjrSK"
      },
      "source": [
        "Instalar gdown"
      ]
    },
    {
      "cell_type": "code",
      "execution_count": 9,
      "metadata": {
        "id": "2oVPU_fMjrSK"
      },
      "outputs": [],
      "source": [
        "!pip install -q gdown"
      ]
    },
    {
      "cell_type": "markdown",
      "metadata": {
        "id": "FZMlfzBdjrSL"
      },
      "source": [
        "Descargar datasets"
      ]
    },
    {
      "cell_type": "code",
      "execution_count": 10,
      "metadata": {
        "colab": {
          "base_uri": "https://localhost:8080/",
          "height": 192
        },
        "id": "GsKuSxmBjrSL",
        "outputId": "efb0e929-9d39-4e74-d6a3-4105293a3623"
      },
      "outputs": [
        {
          "output_type": "stream",
          "name": "stderr",
          "text": [
            "Downloading...\n",
            "From: https://drive.google.com/uc?id=1mfpXVLqDJah-sO0CF29LjKUz5NtKjZqc\n",
            "To: /content/TP1-1-student_performance.zip\n",
            "100%|██████████| 49.7k/49.7k [00:00<00:00, 24.9MB/s]\n",
            "Downloading...\n",
            "From (original): https://drive.google.com/uc?id=1Pqs5Y6dZr4R66Dby5hIUIjPZtBI28rmJ\n",
            "From (redirected): https://drive.google.com/uc?id=1Pqs5Y6dZr4R66Dby5hIUIjPZtBI28rmJ&confirm=t&uuid=91e83cdc-5829-42ae-a5f8-2cf96ee09903\n",
            "To: /content/TP1-3-natural-scenes.zip\n",
            "100%|██████████| 363M/363M [00:02<00:00, 170MB/s]\n"
          ]
        },
        {
          "output_type": "execute_result",
          "data": {
            "text/plain": [
              "'TP1-3-natural-scenes.zip'"
            ],
            "application/vnd.google.colaboratory.intrinsic+json": {
              "type": "string"
            }
          },
          "metadata": {},
          "execution_count": 10
        }
      ],
      "source": [
        "import gdown\n",
        "\n",
        "# TP1-1-student_performance.zip\n",
        "gdown.download('https://drive.google.com/uc?id=1mfpXVLqDJah-sO0CF29LjKUz5NtKjZqc')\n",
        "\n",
        "# # TP1-2-diabetes.zip\n",
        "# gdown.download('https://drive.google.com/uc?id=14-fDOsI9mrosOd-2Pnj8GdP1jyZjUTq_') # No funciona\n",
        "\n",
        "# TP1-3-natural-scenes.zip\n",
        "gdown.download('https://drive.google.com/uc?id=1Pqs5Y6dZr4R66Dby5hIUIjPZtBI28rmJ')"
      ]
    },
    {
      "cell_type": "markdown",
      "metadata": {
        "id": "5ki7mfO1jrSL"
      },
      "source": [
        "Descomprimir datasets"
      ]
    },
    {
      "cell_type": "code",
      "execution_count": 11,
      "metadata": {
        "id": "OvgagL77jrSL"
      },
      "outputs": [],
      "source": [
        "import zipfile\n",
        "\n",
        "with zipfile.ZipFile('TP1-1-student_performance.zip', 'r') as zip_ref:\n",
        "    zip_ref.extractall('./TP1-1')\n",
        "\n",
        "# with zipfile.ZipFile('TP1-2-diabetes.zip', 'r') as zip_ref:\n",
        "#     zip_ref.extractall('./TP1-2')\n",
        "\n",
        "with zipfile.ZipFile('TP1-3-natural-scenes.zip', 'r') as zip_ref:\n",
        "    zip_ref.extractall('./TP1-3')"
      ]
    },
    {
      "cell_type": "code",
      "source": [
        "!git clone https://github.com/therokitoki/AA2_TP_Alsop-Hachen-Nemeth/\n",
        "\n",
        "!cp -r TP1-1 AA2_TP_Alsop-Hachen-Nemeth/datasets\n",
        "!cp -r TP1-3 AA2_TP_Alsop-Hachen-Nemeth/datasets\n",
        "!cp TP1-1-student_performance.zip AA2_TP_Alsop-Hachen-Nemeth/datasets\n",
        "!cp TP1-3-natural-scenes.zip AA2_TP_Alsop-Hachen-Nemeth/datasets"
      ],
      "metadata": {
        "id": "ffHUoWxrlEaj",
        "outputId": "420ee300-488d-45c2-8bbb-0a093a1f9f28",
        "colab": {
          "base_uri": "https://localhost:8080/"
        }
      },
      "execution_count": 12,
      "outputs": [
        {
          "output_type": "stream",
          "name": "stdout",
          "text": [
            "fatal: destination path 'AA2_TP_Alsop-Hachen-Nemeth' already exists and is not an empty directory.\n"
          ]
        }
      ]
    }
  ],
  "metadata": {
    "colab": {
      "provenance": [],
      "include_colab_link": true
    },
    "kernelspec": {
      "display_name": "Python 3",
      "name": "python3"
    },
    "language_info": {
      "name": "python"
    }
  },
  "nbformat": 4,
  "nbformat_minor": 0
}